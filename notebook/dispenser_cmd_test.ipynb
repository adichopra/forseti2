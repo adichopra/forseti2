{
 "metadata": {
  "name": ""
 },
 "nbformat": 3,
 "nbformat_minor": 0,
 "worksheets": [
  {
   "cells": [
    {
     "cell_type": "code",
     "collapsed": false,
     "input": [
      "import lcm\n",
      "import time\n",
      "import forseti2\n",
      "lc = lcm.LCM(\"udpm://239.255.76.67:7667?ttl=1\")"
     ],
     "language": "python",
     "metadata": {},
     "outputs": [],
     "prompt_number": 76
    },
    {
     "cell_type": "code",
     "collapsed": false,
     "input": [
      "reload(forseti2)"
     ],
     "language": "python",
     "metadata": {},
     "outputs": [
      {
       "metadata": {},
       "output_type": "pyout",
       "prompt_number": 77,
       "text": [
        "<module 'forseti2' from 'forseti2/__init__.pyc'>"
       ]
      }
     ],
     "prompt_number": 77
    },
    {
     "cell_type": "code",
     "collapsed": false,
     "input": [
      "msg = forseti2.dispenser_cmd()"
     ],
     "language": "python",
     "metadata": {},
     "outputs": [],
     "prompt_number": 78
    },
    {
     "cell_type": "code",
     "collapsed": false,
     "input": [
      "msg.header = forseti2.header()\n",
      "msg.header.seq = 0\n",
      "msg.header.time = time.time()\n",
      "msg.team = forseti2.dispenser_cmd.TEAM_GOLD\n",
      "for i in range(4):\n",
      "    msg.state[i] = forseti2.dispenser_cmd.STATE_HELD"
     ],
     "language": "python",
     "metadata": {},
     "outputs": [],
     "prompt_number": 79
    },
    {
     "cell_type": "code",
     "collapsed": false,
     "input": [
      "msg.state[0] = forseti2.dispenser_cmd.STATE_HELD\n",
      "msg.state[1] = forseti2.dispenser_cmd.STATE_HELD\n",
      "msg.state[2] = forseti2.dispenser_cmd.STATE_HELD\n",
      "msg.state[3] = forseti2.dispenser_cmd.STATE_RELEASED\n",
      "msg.team = forseti2.dispenser_cmd.TEAM_GOLD"
     ],
     "language": "python",
     "metadata": {},
     "outputs": [],
     "prompt_number": 113
    },
    {
     "cell_type": "code",
     "collapsed": false,
     "input": [
      "msg.header.seq+=1\n",
      "msg.header.time = time.time()\n",
      "lc.publish(\"sprocket/field\", msg.encode())"
     ],
     "language": "python",
     "metadata": {},
     "outputs": [],
     "prompt_number": 114
    },
    {
     "cell_type": "code",
     "collapsed": false,
     "input": [],
     "language": "python",
     "metadata": {},
     "outputs": []
    }
   ],
   "metadata": {}
  }
 ]
}