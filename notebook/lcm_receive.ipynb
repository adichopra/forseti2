{
 "metadata": {
  "name": ""
 },
 "nbformat": 3,
 "nbformat_minor": 0,
 "worksheets": [
  {
   "cells": [
    {
     "cell_type": "code",
     "collapsed": false,
     "input": [
      "import lcm\n",
      "import forseti2\n",
      "import IPython.display"
     ],
     "language": "python",
     "metadata": {},
     "outputs": [],
     "prompt_number": 27
    },
    {
     "cell_type": "code",
     "collapsed": false,
     "input": [
      "lc = lcm.LCM(\"udpm://239.255.76.67:7667?ttl=1\")"
     ],
     "language": "python",
     "metadata": {},
     "outputs": [],
     "prompt_number": 28
    },
    {
     "cell_type": "code",
     "collapsed": false,
     "input": [
      "def health_handler(channel, data):\n",
      "    \n",
      "    #IPython.display.clear_output()\n",
      "    msg = forseti2.health.decode(data)\n",
      "    print(\"Received message on channel \\\"%s\\\"\" % channel)\n",
      "    print(\"   header.seq   = %s\" % str(msg.header.seq))\n",
      "    print(\"   header.time   = %s\" % str(msg.header.time))\n",
      "    print(\"   uptime   = %s\" % str(msg.uptime))"
     ],
     "language": "python",
     "metadata": {},
     "outputs": [],
     "prompt_number": 29
    },
    {
     "cell_type": "code",
     "collapsed": false,
     "input": [
      "sub = lc.subscribe(\"sprocket/health\", health_handler)"
     ],
     "language": "python",
     "metadata": {},
     "outputs": [],
     "prompt_number": 30
    },
    {
     "cell_type": "code",
     "collapsed": false,
     "input": [
      "try:\n",
      "    while True:\n",
      "        lc.handle()\n",
      "except KeyboardInterrupt:\n",
      "    pass"
     ],
     "language": "python",
     "metadata": {},
     "outputs": [
      {
       "output_type": "stream",
       "stream": "stdout",
       "text": [
        "Received message on channel \"sprocket/health\"\n",
        "   header.seq   = 183\n",
        "   header.time   = 1390882296.94\n",
        "   uptime   = 183.0\n",
        "Received message on channel \"sprocket/health\""
       ]
      },
      {
       "output_type": "stream",
       "stream": "stdout",
       "text": [
        "\n",
        "   header.seq   = 184\n",
        "   header.time   = 1390882298.66\n",
        "   uptime   = 184.0\n",
        "Received message on channel \"sprocket/health\""
       ]
      },
      {
       "output_type": "stream",
       "stream": "stdout",
       "text": [
        "\n",
        "   header.seq   = 185\n",
        "   header.time   = 1390882300.84\n",
        "   uptime   = 185.0\n",
        "Received message on channel \"sprocket/health\""
       ]
      },
      {
       "output_type": "stream",
       "stream": "stdout",
       "text": [
        "\n",
        "   header.seq   = 186\n",
        "   header.time   = 1390882301.55\n",
        "   uptime   = 186.0\n",
        "Received message on channel \"sprocket/health\""
       ]
      },
      {
       "output_type": "stream",
       "stream": "stdout",
       "text": [
        "\n",
        "   header.seq   = 187\n",
        "   header.time   = 1390882302.1\n",
        "   uptime   = 187.0\n"
       ]
      }
     ],
     "prompt_number": 31
    },
    {
     "cell_type": "code",
     "collapsed": false,
     "input": [],
     "language": "python",
     "metadata": {},
     "outputs": []
    }
   ],
   "metadata": {}
  }
 ]
}